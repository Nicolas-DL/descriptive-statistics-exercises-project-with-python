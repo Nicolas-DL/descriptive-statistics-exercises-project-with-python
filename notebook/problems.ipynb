{
    "cells": [
        {
            "cell_type": "markdown",
            "id": "ac622319",
            "metadata": {},
            "source": [
                "# Descriptive statistics problems"
            ]
        },
        {
            "cell_type": "markdown",
            "id": "5e0ab0d5",
            "metadata": {},
            "source": [
                "### Exercise 1\n",
                "\n",
                "We will use NumPy to obtain information to describe statistically.\n",
                "\n",
                "- Generate an array of 100 elements following a normal distribution.\n",
                "- Generate an array of 100 elements following a chi-square distribution with 3 degrees of freedom.\n",
                "- Calculate the main metrics and statistical measures that best describe the two vectors."
            ]
        },
        {
            "cell_type": "code",
            "execution_count": 8,
            "id": "34720ab6",
            "metadata": {},
            "outputs": [
                {
                    "name": "stdout",
                    "output_type": "stream",
                    "text": [
                        "ARRAY NORMAL\n",
                        "media:0.022603115297070323\n",
                        "moda:1.029724520438779\n",
                        "mediana:-0.09057910163774507\n",
                        "rango:5.113434389624084\n",
                        "varianza:1.13926501574567\n",
                        "destandar:1.0673635817966014\n",
                        "asimetria:0.07896990993300924\n",
                        "kurtosis:-0.2433042626589672\n",
                        "ARRAY CHI2\n",
                        "media:105.04381372088433\n",
                        "moda:92.16999965509751\n",
                        "mediana:100.46613727944398\n",
                        "rango:30.32530457301398\n",
                        "varianza:245.62236556340412\n",
                        "destandar:15.672343971576304\n",
                        "asimetria:0.4908173140687419\n",
                        "kurtosis:-1.5000000000000004\n"
                    ]
                }
            ],
            "source": [
                "# TODO\n",
                "import numpy as np\n",
                "import statistics as stats\n",
                "import scipy.stats as stats2\n",
                "\n",
                "#arrays\n",
                "arr_normal = np.random.randn(100)\n",
                "array_chi2 = np.random.chisquare(100,3)\n",
                "\n",
                "#media\n",
                "media_normal = np.mean(arr_normal)\n",
                "media_chi2 = np.mean(array_chi2)\n",
                "\n",
                "#moda\n",
                "moda_normal = stats.mode(arr_normal)\n",
                "moda_chi2 = stats.mode(array_chi2)\n",
                "\n",
                "#mediana\n",
                "mediana_normal = stats.median(arr_normal)\n",
                "mediana_chi2 = stats.median(array_chi2)\n",
                "\n",
                "#rango\n",
                "rango_normal = max(arr_normal) - min(arr_normal)\n",
                "rango_chi2 = max(array_chi2) - min(array_chi2)\n",
                "\n",
                "#varianza\n",
                "varianza_normal = stats.variance(arr_normal)\n",
                "varianza_chi2 = stats.variance(array_chi2)\n",
                "\n",
                "#desviación estandar\n",
                "dvest_normal = stats.stdev(arr_normal)\n",
                "dvest_chi2 = stats.stdev(array_chi2)\n",
                "\n",
                "#asimetría\n",
                "asim_normal = stats2.skew(arr_normal)\n",
                "asim_chi2 = stats2.skew(array_chi2)\n",
                "\n",
                "#kurtosis\n",
                "kurt_normal = stats2.kurtosis(arr_normal)\n",
                "kurt_chi2 = stats2.kurtosis(array_chi2)\n",
                "\n",
                "print(f'ARRAY NORMAL\\nmedia:{media_normal}\\nmoda:{moda_normal}\\nmediana:{mediana_normal}\\nrango:{rango_normal}\\nvarianza:{varianza_normal}\\ndestandar:{dvest_normal}\\nasimetria:{asim_normal}\\nkurtosis:{kurt_normal}')\n",
                "print(f'ARRAY CHI2\\nmedia:{media_chi2}\\nmoda:{moda_chi2}\\nmediana:{mediana_chi2}\\nrango:{rango_chi2}\\nvarianza:{varianza_chi2}\\ndestandar:{dvest_chi2}\\nasimetria:{asim_chi2}\\nkurtosis:{kurt_chi2}')"
            ]
        },
        {
            "cell_type": "markdown",
            "id": "46c70c3d",
            "metadata": {},
            "source": [
                "### Exercise 2\n",
                "\n",
                "Write a Python program to calculate the standard deviation of the following data:\n",
                "\n",
                "```py\n",
                "data = [4, 2, 5, 8, 6]\n",
                "```"
            ]
        },
        {
            "cell_type": "code",
            "execution_count": 11,
            "id": "d590308e",
            "metadata": {},
            "outputs": [
                {
                    "name": "stdout",
                    "output_type": "stream",
                    "text": [
                        "5.0\n",
                        "5.0\n"
                    ]
                },
                {
                    "ename": "TypeError",
                    "evalue": "must be real number, not list",
                    "output_type": "error",
                    "traceback": [
                        "\u001b[0;31m---------------------------------------------------------------------------\u001b[0m",
                        "\u001b[0;31mTypeError\u001b[0m                                 Traceback (most recent call last)",
                        "Cell \u001b[0;32mIn[11], line 28\u001b[0m\n\u001b[1;32m     25\u001b[0m     promedio_distancias \u001b[38;5;241m=\u001b[39m suma_distancias\u001b[38;5;241m/\u001b[39m\u001b[38;5;28mlen\u001b[39m(datos)\n\u001b[1;32m     26\u001b[0m     \u001b[38;5;28;01mreturn\u001b[39;00m math\u001b[38;5;241m.\u001b[39msqrt(datos)\n\u001b[0;32m---> 28\u001b[0m \u001b[38;5;28mprint\u001b[39m(\u001b[43mdesv_est\u001b[49m\u001b[43m(\u001b[49m\u001b[43mdata\u001b[49m\u001b[43m)\u001b[49m)\n\u001b[1;32m     29\u001b[0m \u001b[38;5;28mprint\u001b[39m(np\u001b[38;5;241m.\u001b[39mstd(data))\n",
                        "Cell \u001b[0;32mIn[11], line 26\u001b[0m, in \u001b[0;36mdesv_est\u001b[0;34m(datos)\u001b[0m\n\u001b[1;32m     24\u001b[0m     suma_distancias \u001b[38;5;241m+\u001b[39m\u001b[38;5;241m=\u001b[39m distancia_media(n,media)\n\u001b[1;32m     25\u001b[0m promedio_distancias \u001b[38;5;241m=\u001b[39m suma_distancias\u001b[38;5;241m/\u001b[39m\u001b[38;5;28mlen\u001b[39m(datos)\n\u001b[0;32m---> 26\u001b[0m \u001b[38;5;28;01mreturn\u001b[39;00m \u001b[43mmath\u001b[49m\u001b[38;5;241;43m.\u001b[39;49m\u001b[43msqrt\u001b[49m\u001b[43m(\u001b[49m\u001b[43mdatos\u001b[49m\u001b[43m)\u001b[49m\n",
                        "\u001b[0;31mTypeError\u001b[0m: must be real number, not list"
                    ]
                }
            ],
            "source": [
                "# TODO\n",
                "\n",
                "data = [4,2,5,8,6]\n",
                "\n",
                "def promedio(datos):\n",
                "    suma = 0\n",
                "    for n in datos:\n",
                "        suma += n\n",
                "    return suma/len(datos)\n",
                "\n",
                "print(promedio(data))\n",
                "print(np.mean(data))\n",
                "\n",
                "def distancia_media(dato,media):\n",
                "    resta = dato-media\n",
                "    distancia = resta**2\n",
                "    return distancia        \n",
                "\n",
                "import math\n",
                "def desv_est(datos):\n",
                "    media = promedio(datos)\n",
                "    suma_distancias = 0\n",
                "    for n in datos:\n",
                "        suma_distancias += distancia_media(n,media)\n",
                "    promedio_distancias = suma_distancias/len(datos)\n",
                "    return math.sqrt(datos)\n",
                "\n",
                "print(desv_est(data))\n",
                "print(np.std(data))\n"
            ]
        }
    ],
    "metadata": {
        "interpreter": {
            "hash": "9248718ffe6ce6938b217e69dbcc175ea21f4c6b28a317e96c05334edae734bb"
        },
        "kernelspec": {
            "display_name": "Python 3.9.12 ('ML-BOOTCAMP')",
            "language": "python",
            "name": "python3"
        },
        "language_info": {
            "codemirror_mode": {
                "name": "ipython",
                "version": 3
            },
            "file_extension": ".py",
            "mimetype": "text/x-python",
            "name": "python",
            "nbconvert_exporter": "python",
            "pygments_lexer": "ipython3",
            "version": "3.11.4"
        }
    },
    "nbformat": 4,
    "nbformat_minor": 5
}
